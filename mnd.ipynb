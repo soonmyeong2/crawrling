{
 "cells": [
  {
   "cell_type": "code",
   "execution_count": 56,
   "metadata": {},
   "outputs": [],
   "source": [
    "from bs4 import BeautifulSoup\n",
    "from urllib.parse import urljoin\n",
    "import requests\n",
    "import re\n",
    "import csv\n",
    "\n",
    "root = \"https://www.mnd.go.kr/\"\n",
    "web_link = list()\n",
    "result = list()\n",
    "\n",
    "# 국방부 내의 복지 페이지 링크를 모두 가져옴\n",
    "def enum_links(url):\n",
    "    html = requests.get(url).text\n",
    "    soup = BeautifulSoup(html, \"html.parser\")\n",
    "    links = soup.select(\"#tab\")\n",
    "    herfs = re.findall('(?<=href=\").*?(?=[\\\"])', str(links))\n",
    "    \n",
    "    for herf in herfs:\n",
    "        url = urljoin(root, herf)\n",
    "        web_link.append(url)"
   ]
  },
  {
   "cell_type": "code",
   "execution_count": 57,
   "metadata": {},
   "outputs": [
    {
     "name": "stdout",
     "output_type": "stream",
     "text": [
      "[<div id=\"tab\">\n",
      "<button class=\"mBtn\" type=\"button\">탭 열기</button>\n",
      "<ul class=\"tab_7ea\">\n",
      "<li><a class=\"on\" href=\"/mbshome/mbs/mnd/subview.jsp?id=mnd_011304010000\">보수</a></li>\n",
      "<li><a href=\"/mbshome/mbs/mnd/subview.jsp?id=mnd_011304020000\">주거</a></li>\n",
      "<li><a href=\"/mbshome/mbs/mnd/subview.jsp?id=mnd_011304030000\">전직지원</a></li>\n",
      "<li><a href=\"/mbshome/mbs/mnd/subview.jsp?id=mnd_011304040000\">군인연금</a></li>\n",
      "<li><a href=\"/mbshome/mbs/mnd/subview.jsp?id=mnd_011304050000\">가족지원</a></li>\n",
      "<li><a href=\"/mbshome/mbs/mnd/subview.jsp?id=mnd_011304060000\">문화복지</a></li>\n",
      "<li><a href=\"/mbshome/mbs/mnd/subview.jsp?id=mnd_011304070000\">맞춤형 복지</a></li>\n",
      "</ul>\n",
      "</div>]\n",
      "1 :  ['https://www.mnd.go.kr/mbshome/mbs/mnd/subview.jsp?id=mnd_011304010000', 'https://www.mnd.go.kr/mbshome/mbs/mnd/subview.jsp?id=mnd_011304020000', 'https://www.mnd.go.kr/mbshome/mbs/mnd/subview.jsp?id=mnd_011304030000', 'https://www.mnd.go.kr/mbshome/mbs/mnd/subview.jsp?id=mnd_011304040000', 'https://www.mnd.go.kr/mbshome/mbs/mnd/subview.jsp?id=mnd_011304050000', 'https://www.mnd.go.kr/mbshome/mbs/mnd/subview.jsp?id=mnd_011304060000', 'https://www.mnd.go.kr/mbshome/mbs/mnd/subview.jsp?id=mnd_011304070000']\n",
      "[<div id=\"tab\">\n",
      "<button class=\"mBtn\" type=\"button\">탭 열기</button>\n",
      "<ul class=\"tab_5ea\">\n",
      "<li><a class=\"on\" href=\"/mbshome/mbs/mnd/subview.jsp?id=mnd_011302060000\">장병내일준비적금</a></li>\n",
      "<li><a href=\"/mbshome/mbs/mnd/subview.jsp?id=mnd_011302070000\">군 의료시스템 개편</a></li>\n",
      "<li><a href=\"/mbshome/mbs/mnd/subview.jsp?id=mnd_011302030000\">병영생활 개선</a></li>\n",
      "<li><a href=\"/mbshome/mbs/mnd/subview.jsp?id=mnd_011302040000\">급식, 피복/장구</a></li>\n",
      "<li><a href=\"/mbshome/mbs/mnd/subview.jsp?id=mnd_011302050000\">자기개발</a></li>\n",
      "</ul>\n",
      "</div>]\n",
      "['https://www.mnd.go.kr/mbshome/mbs/mnd/subview.jsp?id=mnd_011302060000', 'https://www.mnd.go.kr/mbshome/mbs/mnd/subview.jsp?id=mnd_011302070000', 'https://www.mnd.go.kr/mbshome/mbs/mnd/subview.jsp?id=mnd_011302030000', 'https://www.mnd.go.kr/mbshome/mbs/mnd/subview.jsp?id=mnd_011302040000', 'https://www.mnd.go.kr/mbshome/mbs/mnd/subview.jsp?id=mnd_011302050000']\n"
     ]
    }
   ],
   "source": [
    "if __name__ == \"__main__\":\n",
    "    soldier_url = \"http://www.mnd.go.kr/mbshome/mbs/mnd/subview.jsp?id=mnd_011304010000\" # 직업군인\n",
    "    enum_links(soldier_url)\n",
    "    \n",
    "    for link in web_link:\n",
    "        req = requests.get(link)\n",
    "        html = req.text\n",
    "        soup = BeautifulSoup(html, \"html.parser\")\n",
    "        \n",
    "        title = [x.get_text() for x in soup.select(\"#skipnav > section.title_cont > h2\")][0]\n",
    "        target = \"직업군인\"\n",
    "        contents = soup.select(\"#printContents > section\")\n",
    "        contents = re.sub('(?<=href=\")/|(?<=src=\")/', root, str(contents), 0, re.I|re.S) #상대경로 처리\n",
    "        \n",
    "        result.append([title, target, contents[1:-1], link])   \n",
    "    \n",
    "    web_link = []\n",
    "    peroid_url = \"http://www.mnd.go.kr/mbshome/mbs/mnd/subview.jsp?id=mnd_011302060000\"  # 기간병\n",
    "    enum_links(peroid_url)\n",
    "    \n",
    "    for link in web_link:\n",
    "        req = requests.get(link)\n",
    "        html = req.text\n",
    "        soup = BeautifulSoup(html, \"html.parser\")\n",
    "        \n",
    "        title = [x.get_text() for x in soup.select(\"#skipnav > section.title_cont > h2\")][0]\n",
    "        target = \"병사\"\n",
    "        contents = soup.select(\"#printContents > section\")\n",
    "        contents = re.sub('(?<=href=\")/|(?<=src=\")/', root, str(contents), 0, re.I|re.S) #상대경로 처리\n",
    "        \n",
    "        result.append([title, target, contents[1:-1], link])   \n",
    "    "
   ]
  },
  {
   "cell_type": "code",
   "execution_count": 60,
   "metadata": {},
   "outputs": [],
   "source": [
    "    csv_file = open(\"./mnd.csv\", \"w\", newline=\"\", encoding='UTF8')\n",
    "    csv_writer = csv.writer(csv_file)\n",
    "    for row in result:\n",
    "        csv_writer.writerow(row)\n",
    "    csv_file.close()"
   ]
  }
 ],
 "metadata": {
  "kernelspec": {
   "display_name": "Python 3",
   "language": "python",
   "name": "python3"
  },
  "language_info": {
   "codemirror_mode": {
    "name": "ipython",
    "version": 3
   },
   "file_extension": ".py",
   "mimetype": "text/x-python",
   "name": "python",
   "nbconvert_exporter": "python",
   "pygments_lexer": "ipython3",
   "version": "3.6.3"
  }
 },
 "nbformat": 4,
 "nbformat_minor": 2
}
