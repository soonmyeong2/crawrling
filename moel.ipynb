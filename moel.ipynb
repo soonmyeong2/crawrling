{
 "cells": [
  {
   "cell_type": "code",
   "execution_count": 240,
   "metadata": {},
   "outputs": [],
   "source": [
    "from bs4 import BeautifulSoup\n",
    "from urllib.parse import urljoin\n",
    "import requests\n",
    "import re\n",
    "import csv\n",
    "\n",
    "root = \"http://www.moel.go.kr/index.do\"\n",
    "web_link = list()\n",
    "result = list()\n",
    "\n",
    "# 고용노동부 내의 복지 페이지 링크를 모두 가져옴\n",
    "def enum_links(url):\n",
    "    html = requests.get(url).text\n",
    "    soup = BeautifulSoup(html, \"html.parser\")\n",
    "    links = soup.select(\"#main_content > div.main_policy\")\n",
    "    herfs = re.findall('(?<=href=\").*?(?=[\\\"])', str(links))\n",
    "    \n",
    "    # 사이트 페이지의 복지 링크 추가\n",
    "    for herf in herfs:\n",
    "        url = urljoin(root, herf)\n",
    "        web_link.append(url)\n",
    "    \n",
    "    # 복지링크 내의 링크 탐색\n",
    "    for i in range(len(web_link)):\n",
    "        link = web_link.pop(0)\n",
    "        html = requests.get(link).text\n",
    "        soup = BeautifulSoup(html, \"html.parser\")\n",
    "        discription = soup.select(\"#txt > ul > li > a\")\n",
    "        \n",
    "        for dis in discription:\n",
    "            dis = str(dis)\n",
    "            url_ = urljoin(link, (re.findall('(?<=href=\").*?(?=;)', dis)[0]))\n",
    "            title = re.findall('.*?_bt[ ]?\">.*?(?=<br/>|</p>)', dis)\n",
    "            title = title[0][title[0].find('>')+1:] if len(title) else 'NULL'\n",
    "            target = re.findall('대상.*?(?=<br/>|</p>)', dis)\n",
    "            target = target[0][target[0].find('>')+1:] if len(target) else 'NULL'\n",
    "            \n",
    "            text = requests.get(url_).text\n",
    "            text_soup = BeautifulSoup(text, \"html.parser\")\n",
    "            text = text_soup.select(\"#txt > div.po_view.mt_20 > div.po_content\") \n",
    "            if len(text)==0 : text = text_soup.select(\"#txt > div.po_content\") \n",
    "            \n",
    "            result.append([title, target, text, url_])\n",
    "\n",
    "def save_file(text):\n",
    "    csv_file = open(\"./moel.csv\", \"w\", newline=\"\", encoding='UTF8')\n",
    "    csv_writer = csv.writer(csv_file)\n",
    "    for row in text:\n",
    "        csv_writer.writerow(row)\n",
    "    csv_file.close()"
   ]
  },
  {
   "cell_type": "code",
   "execution_count": 241,
   "metadata": {},
   "outputs": [],
   "source": [
    "if __name__ == \"__main__\":\n",
    "    url = root \n",
    "    enum_links(url)\n",
    "    save_file(result)"
   ]
  }
 ],
 "metadata": {
  "kernelspec": {
   "display_name": "Python 3",
   "language": "python",
   "name": "python3"
  },
  "language_info": {
   "codemirror_mode": {
    "name": "ipython",
    "version": 3
   },
   "file_extension": ".py",
   "mimetype": "text/x-python",
   "name": "python",
   "nbconvert_exporter": "python",
   "pygments_lexer": "ipython3",
   "version": "3.6.3"
  }
 },
 "nbformat": 4,
 "nbformat_minor": 2
}
