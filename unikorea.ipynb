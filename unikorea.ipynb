{
 "cells": [
  {
   "cell_type": "code",
   "execution_count": 122,
   "metadata": {},
   "outputs": [],
   "source": [
    "from bs4 import BeautifulSoup\n",
    "import requests\n",
    "import re\n",
    "import csv\n",
    "\n",
    "root = \"https://www.unikorea.go.kr/\"\n",
    "web_link = list()\n",
    "result = list()\n",
    "\n",
    "# 통일부 내의 복지 페이지 링크를 모두 가져옴\n",
    "def enum_links(html):\n",
    "    soup = BeautifulSoup(html, \"html.parser\")\n",
    "    links = soup.select(\"#content > div.content-body > div.div-minwon-form > div > nav > div > ul\") # 복지링크 테이블\n",
    "    herfs = re.findall('(?<=href=\").*?(?=[\\\"])', str(links))\n",
    "    \n",
    "    for herf in herfs:\n",
    "        url = urljoin(root, herf)\n",
    "        web_link.append(url)\n",
    "    web_link[0] = \"https://www.unikorea.go.kr/unikorea/minwon/Info/fundstep/NKDefectors/achievement/\"\n",
    "    \n",
    "if __name__ == \"__main__\":\n",
    "    url = \"https://www.unikorea.go.kr/unikorea/minwon/Info/fundstep/NKDefectors/achievement/\"\n",
    "    req = requests.get(url)\n",
    "    html = req.text\n",
    "    enum_links(html)\n",
    "    \n",
    "    for link in web_link:\n",
    "        req = requests.get(link)\n",
    "        html = req.text\n",
    "        soup = BeautifulSoup(html, \"html.parser\")\n",
    "        title = [x.get_text() for x in soup.select(\"#wrap > div.container.sub.sub019814 > div.content-wrap > div > h2\")][0]\n",
    "        target = \"탈북민\"\n",
    "        contents = soup.select(\"#content > div.content-body > div.div-minwon-form > div > div.tab2-content1 > div > section > div > div\")\n",
    "        discription = list()\n",
    "        for content in contents:\n",
    "            content = str(content)            \n",
    "            while content.find('<dt>') != -1:\n",
    "                t_start, t_end = content.find('<dt>')+4, content.find('</dt>')\n",
    "                d_start, d_end = content.find('<dd>')+4, content.find('</dd>')\n",
    "                disc = re.sub('<.+?>', '', content[d_start:d_end], 0, re.I|re.S) #태그 제거\n",
    "                disc = re.sub('&nbsp;| |\\t|\\r', '', disc.strip()) #공백제거\n",
    "                disc = re.sub('[\\\\n]+', ',', disc) # 개행 처리\n",
    "\n",
    "                discription.append([ content[t_start:t_end]+ ':' + disc ])\n",
    "                content = content[d_end+4:]\n",
    "            result.append([title, target, discription, link])\n",
    "            dscription = []\n",
    "\n",
    "    csv_file = open(\"./unikorea.csv\", \"w\", newline=\"\", encoding='UTF8')\n",
    "    csv_writer = csv.writer(csv_file)\n",
    "    for row in result:\n",
    "        csv_writer.writerow(row)\n",
    "    csv_file.close()"
   ]
  }
 ],
 "metadata": {
  "kernelspec": {
   "display_name": "Python 3",
   "language": "python",
   "name": "python3"
  },
  "language_info": {
   "codemirror_mode": {
    "name": "ipython",
    "version": 3
   },
   "file_extension": ".py",
   "mimetype": "text/x-python",
   "name": "python",
   "nbconvert_exporter": "python",
   "pygments_lexer": "ipython3",
   "version": "3.6.3"
  }
 },
 "nbformat": 4,
 "nbformat_minor": 2
}
